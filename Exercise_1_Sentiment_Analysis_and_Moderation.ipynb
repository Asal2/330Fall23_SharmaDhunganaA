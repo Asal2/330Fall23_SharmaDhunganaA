{
  "nbformat": 4,
  "nbformat_minor": 0,
  "metadata": {
    "colab": {
      "provenance": [],
      "authorship_tag": "ABX9TyN/NWqdCyTEH57Y2tdw9lYU"
    },
    "kernelspec": {
      "name": "python3",
      "display_name": "Python 3"
    },
    "language_info": {
      "name": "python"
    }
  },
  "cells": [
    {
      "cell_type": "markdown",
      "source": [
        "# Downloading Dependencies\n"
      ],
      "metadata": {
        "id": "10tkI_kd7BFs"
      }
    },
    {
      "cell_type": "code",
      "execution_count": null,
      "metadata": {
        "colab": {
          "base_uri": "https://localhost:8080/"
        },
        "id": "bhcSh5qWyGgi",
        "outputId": "086d619c-1cec-425c-ea8c-14631ebb7e7c"
      },
      "outputs": [
        {
          "output_type": "stream",
          "name": "stdout",
          "text": [
            "\u001b[?25l   \u001b[90m━━━━━━━━━━━━━━━━━━━━━━━━━━━━━━━━━━━━━━━━\u001b[0m \u001b[32m0.0/948.4 kB\u001b[0m \u001b[31m?\u001b[0m eta \u001b[36m-:--:--\u001b[0m\r\u001b[2K   \u001b[90m━━━━━━━━━━━━━━━━━━━━━━━━━━━━━━━━━━━━━━━━\u001b[0m \u001b[32m948.4/948.4 kB\u001b[0m \u001b[31m38.3 MB/s\u001b[0m eta \u001b[36m0:00:00\u001b[0m\n",
            "\u001b[?25h"
          ]
        }
      ],
      "source": [
        "!pip install --upgrade --quiet openai"
      ]
    },
    {
      "cell_type": "markdown",
      "source": [
        "# Setting Up OpenAI API Key"
      ],
      "metadata": {
        "id": "m18CbQj7-Uj9"
      }
    },
    {
      "cell_type": "code",
      "source": [
        "import os\n",
        "from openai import OpenAI\n",
        "from google.colab import userdata\n",
        "key = userdata.get('OPENAI_API_KEY')"
      ],
      "metadata": {
        "id": "C_9sGeXoyQer"
      },
      "execution_count": null,
      "outputs": []
    },
    {
      "cell_type": "markdown",
      "source": [
        "# Initializing the OpenAI Client"
      ],
      "metadata": {
        "id": "YNC0qnRG-haK"
      }
    },
    {
      "cell_type": "code",
      "source": [
        "client = OpenAI(api_key=key)"
      ],
      "metadata": {
        "id": "PXFXiBuUyUV6"
      },
      "execution_count": null,
      "outputs": []
    },
    {
      "cell_type": "code",
      "source": [
        "llm_provider = \"openai\""
      ],
      "metadata": {
        "id": "O04uEwWmyVwC"
      },
      "execution_count": null,
      "outputs": []
    },
    {
      "cell_type": "markdown",
      "source": [
        "# Model Completions"
      ],
      "metadata": {
        "id": "aL0s9TIC-tjM"
      }
    },
    {
      "cell_type": "code",
      "source": [
        "def get_completion(prompt, model=None, temperature=0):\n",
        "  messages = [\n",
        "    {\"role\": \"user\", \"content\": prompt}\n",
        "  ]\n",
        "  response = client.chat.completions.create(\n",
        "      model=model or \"gpt-4.1-nano\",\n",
        "      messages=messages,\n",
        "      temperature=temperature\n",
        "  )\n",
        "  return response.choices[0].message.content"
      ],
      "metadata": {
        "id": "jOeQ4Ho7yb9z"
      },
      "execution_count": null,
      "outputs": []
    },
    {
      "cell_type": "markdown",
      "source": [
        "# Step 1: Sentiment Analysis\n"
      ],
      "metadata": {
        "id": "F5tJTBOb-3p5"
      }
    },
    {
      "cell_type": "code",
      "source": [
        "text = [\n",
        "\"I had an amazing experience at the new restaurant downtown!\",\n",
        "\"The Service was terrible, and I will never go back.\",\n",
        "\"It was an okay movie, nothing special.\",\n",
        "\"The product quality is outstanding, I highly recommend it.\",\n",
        "\"I'm extremely disappointed with my purchase.\",\n",
        "\"The weather is nice today.\",\n",
        "]\n",
        "prompt =f\"\"\"\n",
        "Analyze and classfy the above given text as positive, negative or neutral. Fro each of the text provided above provide an output in following JSON format:\n",
        "{{\n",
        "  \"Text\": text,\n",
        "  \"Sentiment\": \"<Positive | Negative | Neutral>\",\n",
        "  \"Reasoning\": \"<Explain why you chose this sentiment based on the words or tone used in the text>\"\n",
        "}}\n",
        "Review the text above '''{text}'''\n",
        "\"\"\"\n",
        "response = get_completion(prompt)\n",
        "print(response)"
      ],
      "metadata": {
        "colab": {
          "base_uri": "https://localhost:8080/"
        },
        "id": "anoY3TN-zR2Q",
        "outputId": "dae9bfc6-78d2-4d4e-f310-7fc85a547973"
      },
      "execution_count": null,
      "outputs": [
        {
          "output_type": "stream",
          "name": "stdout",
          "text": [
            "[\n",
            "  {\n",
            "    \"Text\": \"I had an amazing experience at the new restaurant downtown!\",\n",
            "    \"Sentiment\": \"Positive\",\n",
            "    \"Reasoning\": \"The use of the word 'amazing' indicates a very positive experience and satisfaction.\"\n",
            "  },\n",
            "  {\n",
            "    \"Text\": \"The Service was terrible, and I will never go back.\",\n",
            "    \"Sentiment\": \"Negative\",\n",
            "    \"Reasoning\": \"The word 'terrible' conveys strong dissatisfaction and a negative experience.\"\n",
            "  },\n",
            "  {\n",
            "    \"Text\": \"It was an okay movie, nothing special.\",\n",
            "    \"Sentiment\": \"Neutral\",\n",
            "    \"Reasoning\": \"Phrases like 'nothing special' suggest a mediocre or indifferent opinion, neither positive nor negative.\"\n",
            "  },\n",
            "  {\n",
            "    \"Text\": \"The product quality is outstanding, I highly recommend it.\",\n",
            "    \"Sentiment\": \"Positive\",\n",
            "    \"Reasoning\": \"Words like 'outstanding' and 'highly recommend' reflect strong positive feelings and approval.\"\n",
            "  },\n",
            "  {\n",
            "    \"Text\": \"I'm extremely disappointed with my purchase.\",\n",
            "    \"Sentiment\": \"Negative\",\n",
            "    \"Reasoning\": \"The word 'disappointed' indicates dissatisfaction and negative sentiment.\"\n",
            "  },\n",
            "  {\n",
            "    \"Text\": \"The weather is nice today.\",\n",
            "    \"Sentiment\": \"Positive\",\n",
            "    \"Reasoning\": \"The word 'nice' conveys a pleasant and positive tone regarding the weather.\"\n",
            "  }\n",
            "]\n"
          ]
        }
      ]
    },
    {
      "cell_type": "markdown",
      "source": [
        "# Step 2: Content Moderation\n"
      ],
      "metadata": {
        "id": "YIVojYrU-7jv"
      }
    },
    {
      "cell_type": "code",
      "source": [
        "text = [\n",
        "\"I can't believe they hired such an incompetent person!\",\n",
        "\"This is a wonderful community, and I love being part of it.\",\n",
        "\"The event was a disaster; the organizers did a horrible job.\",\n",
        "\"You are such an idiot for thinking that!\",\n",
        "\"I support everyone who works hard to achieve their dreams.\",\n",
        "\"Get lost, no one wants you here!\",\n",
        "]\n",
        "prompt = f\"\"\"\n",
        "Analyze the above given text. Identify if the text contains harmful, offensive, or inappropriate content.\n",
        "After indentify the type of content suggest moderation actions. If the contain wasn't harmful, offensive or inappropriate specify with the text as safe.\n",
        "Finally explain why the text contained any harmful, offensive or inappropriate content with the words used in the text.\n",
        "Fro each of the text provided above provide an output in following JSON format:\n",
        "{{\n",
        "  \"Text\": text,\n",
        "  \"Identified Issue\": \"<harmful | offensive | inappropriate>\",\n",
        "  \"Moderation Action\": \"<action to be taken>\",\n",
        "  \"Reasoning\": \"<Explain why the text contained Identifed issue >\"\n",
        "}}\n",
        "Review the text above '''{text}'''\n",
        "\"\"\"\n",
        "response = get_completion(prompt)\n",
        "print(response)\n"
      ],
      "metadata": {
        "colab": {
          "base_uri": "https://localhost:8080/"
        },
        "id": "cZ0cwnSw2oeZ",
        "outputId": "f00f0e3b-5f68-4434-9be7-5ecdb73d6840"
      },
      "execution_count": null,
      "outputs": [
        {
          "output_type": "stream",
          "name": "stdout",
          "text": [
            "[\n",
            "  {\n",
            "    \"Text\": \"I can't believe they hired such an incompetent person!\",\n",
            "    \"Identified Issue\": \"offensive\",\n",
            "    \"Moderation Action\": \"Flag for review or warning\",\n",
            "    \"Reasoning\": \"The phrase 'such an incompetent person' is a derogatory comment that can be considered offensive as it insults someone's abilities.\"\n",
            "  },\n",
            "  {\n",
            "    \"Text\": \"This is a wonderful community, and I love being part of it.\",\n",
            "    \"Identified Issue\": \"safe\",\n",
            "    \"Moderation Action\": \"None\",\n",
            "    \"Reasoning\": \"The statement is positive and does not contain harmful, offensive, or inappropriate content.\"\n",
            "  },\n",
            "  {\n",
            "    \"Text\": \"The event was a disaster; the organizers did a horrible job.\",\n",
            "    \"Identified Issue\": \"offensive\",\n",
            "    \"Moderation Action\": \"Flag for review or warning\",\n",
            "    \"Reasoning\": \"The phrase 'horrible job' is a harsh critique that could be considered offensive or overly negative, especially if directed at individuals.\"\n",
            "  },\n",
            "  {\n",
            "    \"Text\": \"You are such an idiot for thinking that!\",\n",
            "    \"Identified Issue\": \"offensive\",\n",
            "    \"Moderation Action\": \"Flag for review or warning\",\n",
            "    \"Reasoning\": \"The term 'idiot' is a derogatory insult and is offensive as it belittles someone.\"\n",
            "  },\n",
            "  {\n",
            "    \"Text\": \"I support everyone who works hard to achieve their dreams.\",\n",
            "    \"Identified Issue\": \"safe\",\n",
            "    \"Moderation Action\": \"None\",\n",
            "    \"Reasoning\": \"The statement is positive and supportive, containing no harmful or offensive language.\"\n",
            "  },\n",
            "  {\n",
            "    \"Text\": \"Get lost, no one wants you here!\",\n",
            "    \"Identified Issue\": \"offensive\",\n",
            "    \"Moderation Action\": \"Flag for review or warning\",\n",
            "    \"Reasoning\": \"The phrase 'Get lost' and 'no one wants you here' are aggressive and can be considered offensive as they are dismissive and hostile.\"\n",
            "  }\n",
            "]\n"
          ]
        }
      ]
    }
  ]
}